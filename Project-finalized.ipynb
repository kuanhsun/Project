{
 "cells": [
  {
   "cell_type": "code",
   "execution_count": 36,
   "id": "21edeaad",
   "metadata": {},
   "outputs": [],
   "source": [
    "#Task1: Database setting\n",
    "\n",
    "#1.(a) For image data, we store them in MongoDB\n",
    "from pymongo import MongoClient\n",
    "import urllib\n",
    "\n",
    "# MongoDB in Docker\n",
    "mgdb_host = '127.0.0.1'\n",
    "mgdb_port = '27017'\n",
    "mgdb_username = ''\n",
    "mgdb_password = ''\n",
    "mgdb_database = 'Project'\n",
    "mgdb_collection = 'blog'\n",
    "\n",
    "# Establish Connections\n",
    "client = MongoClient('mongodb://%s/%s' % (mgdb_host, mgdb_database))\n",
    "mgdb_database = client[mgdb_database]\n",
    "mgdb_collection = mgdb_database[mgdb_collection]"
   ]
  },
  {
   "cell_type": "code",
   "execution_count": 2,
   "id": "e38c9a2c",
   "metadata": {},
   "outputs": [
    {
     "name": "stdout",
     "output_type": "stream",
     "text": [
      "Insert success\n"
     ]
    }
   ],
   "source": [
    "#Test whether data input is successful\n",
    "insert_dict = dict()\n",
    "insert_dict['machine'] = \"photo1\"\n",
    "insert_dict['message'] = 'this is just a simple message'\n",
    "mgdb_collection.insert_one(insert_dict)\n",
    "print('Insert success')\n"
   ]
  },
  {
   "cell_type": "code",
   "execution_count": 3,
   "id": "e36e2972",
   "metadata": {},
   "outputs": [
    {
     "name": "stdout",
     "output_type": "stream",
     "text": [
      "Delete success\n"
     ]
    }
   ],
   "source": [
    "#Delete the test data\n",
    "mgdb_collection.delete_one({})\n",
    "print('Delete success')"
   ]
  },
  {
   "cell_type": "code",
   "execution_count": 24,
   "id": "812e9389",
   "metadata": {
    "scrolled": false
   },
   "outputs": [],
   "source": [
    "#Access photos from local machine\n",
    "import pathlib\n",
    "import matplotlib.pyplot as plt\n",
    "import tensorflow as tf\n",
    "import cv2\n",
    "import os\n",
    "\n",
    "def load_images_from_folder(folder):\n",
    "    images = []\n",
    "    for filename in os.listdir(folder):\n",
    "        img = cv2.imread(os.path.join(folder,filename))\n",
    "        if img is not None:\n",
    "            images.append(cv2.resize(img,(256,256)))\n",
    "    return images"
   ]
  },
  {
   "cell_type": "code",
   "execution_count": 25,
   "id": "0cc36b90",
   "metadata": {},
   "outputs": [],
   "source": [
    "photos_PN = load_images_from_folder('/Users/wuguanxun/Desktop/photos/bird_photos/Psilopogon_nuchalis')\n",
    "photos_PS = load_images_from_folder('/Users/wuguanxun/Desktop/photos/bird_photos/Pycnonotus_sinensis')"
   ]
  },
  {
   "cell_type": "code",
   "execution_count": 37,
   "id": "e36bfff5",
   "metadata": {},
   "outputs": [],
   "source": [
    "#Start insert photo images into MongoDB\n",
    "\n",
    "def insert_image(image,species,index):\n",
    "    insert_dict = dict()\n",
    "    insert_dict['index'] = index\n",
    "    insert_dict['image'] = (image/255.).tolist()\n",
    "    insert_dict['species'] = species\n",
    "    mgdb_collection.insert_one(insert_dict)\n",
    "    print('Insert success: ',index)"
   ]
  },
  {
   "cell_type": "code",
   "execution_count": 38,
   "id": "149b0b0f",
   "metadata": {},
   "outputs": [
    {
     "name": "stdout",
     "output_type": "stream",
     "text": [
      "Insert success:  0\n",
      "Insert success:  1\n",
      "Insert success:  2\n",
      "Insert success:  3\n",
      "Insert success:  4\n",
      "Insert success:  5\n",
      "Insert success:  6\n",
      "Insert success:  7\n",
      "Insert success:  8\n",
      "Insert success:  9\n",
      "Insert success:  10\n",
      "Insert success:  11\n",
      "Insert success:  12\n",
      "Insert success:  13\n",
      "Insert success:  14\n",
      "Insert success:  15\n",
      "Insert success:  16\n",
      "Insert success:  17\n",
      "Insert success:  18\n",
      "Insert success:  19\n",
      "Insert success:  20\n",
      "Insert success:  21\n",
      "Insert success:  22\n",
      "Insert success:  23\n",
      "Insert success:  24\n",
      "Insert success:  25\n",
      "Insert success:  26\n",
      "Insert success:  27\n",
      "Insert success:  28\n",
      "Insert success:  29\n",
      "Insert success:  30\n",
      "Insert success:  31\n",
      "Insert success:  32\n",
      "Insert success:  33\n",
      "Insert success:  34\n",
      "Insert success:  35\n",
      "Insert success:  36\n",
      "Insert success:  37\n",
      "Insert success:  38\n",
      "Insert success:  39\n",
      "Insert success:  40\n",
      "Insert success:  41\n",
      "Insert success:  42\n",
      "Insert success:  43\n",
      "Insert success:  44\n",
      "Insert success:  45\n",
      "Insert success:  46\n",
      "Insert success:  47\n",
      "Insert success:  48\n",
      "Insert success:  49\n",
      "Insert success:  50\n",
      "Insert success:  51\n",
      "Insert success:  52\n",
      "Insert success:  53\n",
      "Insert success:  54\n",
      "Insert success:  55\n",
      "Insert success:  56\n",
      "Insert success:  57\n",
      "Insert success:  58\n",
      "Insert success:  59\n",
      "Insert success:  60\n",
      "Insert success:  61\n",
      "Insert success:  62\n",
      "Insert success:  63\n",
      "Insert success:  64\n",
      "Insert success:  65\n",
      "Insert success:  66\n",
      "Insert success:  67\n",
      "Insert success:  68\n",
      "Insert success:  69\n",
      "Insert success:  70\n",
      "Insert success:  71\n",
      "Insert success:  72\n",
      "Insert success:  73\n",
      "Insert success:  74\n",
      "Insert success:  75\n",
      "Insert success:  76\n",
      "Insert success:  77\n",
      "Insert success:  78\n",
      "Insert success:  79\n",
      "Insert success:  80\n",
      "Insert success:  81\n",
      "Insert success:  82\n",
      "Insert success:  83\n",
      "Insert success:  84\n",
      "Insert success:  85\n",
      "Insert success:  86\n",
      "Insert success:  87\n",
      "Insert success:  88\n",
      "Insert success:  89\n",
      "Insert success:  90\n",
      "Insert success:  91\n",
      "Insert success:  92\n",
      "Insert success:  93\n",
      "Insert success:  94\n",
      "Insert success:  95\n",
      "Insert success:  96\n",
      "Insert success:  97\n",
      "Insert success:  98\n",
      "Insert success:  99\n",
      "Insert success:  100\n",
      "Insert success:  101\n",
      "Insert success:  102\n",
      "Insert success:  103\n",
      "Insert success:  104\n",
      "Insert success:  105\n",
      "Insert success:  106\n",
      "Insert success:  107\n",
      "Insert success:  108\n",
      "Insert success:  109\n",
      "Insert success:  110\n",
      "Insert success:  111\n",
      "Insert success:  112\n",
      "Insert success:  113\n",
      "Insert success:  114\n",
      "Insert success:  115\n",
      "Insert success:  116\n",
      "Insert success:  117\n",
      "Insert success:  118\n",
      "Insert success:  119\n",
      "Insert success:  120\n",
      "Insert success:  121\n",
      "Insert success:  122\n",
      "Insert success:  123\n",
      "Insert success:  124\n",
      "Insert success:  125\n",
      "Insert success:  126\n",
      "Insert success:  127\n",
      "Insert success:  128\n",
      "Insert success:  129\n",
      "Insert success:  130\n",
      "Insert success:  131\n",
      "Insert success:  132\n",
      "Insert success:  133\n",
      "Insert success:  134\n",
      "Insert success:  135\n",
      "Insert success:  136\n",
      "Insert success:  137\n",
      "Insert success:  138\n",
      "Insert success:  139\n",
      "Insert success:  140\n",
      "Insert success:  141\n",
      "Insert success:  142\n",
      "Insert success:  143\n",
      "Insert success:  144\n",
      "Insert success:  145\n",
      "Insert success:  146\n",
      "Insert success:  147\n",
      "Insert success:  148\n",
      "Insert success:  149\n",
      "Insert success:  150\n",
      "Insert success:  151\n",
      "Insert success:  152\n",
      "Insert success:  153\n",
      "Insert success:  154\n",
      "Insert success:  155\n",
      "Insert success:  156\n",
      "Insert success:  157\n",
      "Insert success:  158\n",
      "Insert success:  159\n",
      "Insert success:  160\n",
      "Insert success:  161\n",
      "Insert success:  162\n",
      "Insert success:  163\n",
      "Insert success:  164\n",
      "Insert success:  165\n",
      "Insert success:  166\n",
      "Insert success:  167\n",
      "Insert success:  168\n",
      "Insert success:  169\n",
      "Insert success:  170\n",
      "Insert success:  171\n",
      "Insert success:  172\n",
      "Insert success:  173\n",
      "Insert success:  174\n",
      "Insert success:  175\n",
      "Insert success:  176\n",
      "Insert success:  177\n",
      "Insert success:  178\n",
      "Insert success:  179\n",
      "Insert success:  180\n",
      "Insert success:  181\n",
      "Insert success:  182\n",
      "Insert success:  183\n",
      "Insert success:  184\n",
      "Insert success:  185\n",
      "Insert success:  186\n",
      "Insert success:  187\n",
      "Insert success:  188\n",
      "Insert success:  189\n",
      "Insert success:  190\n",
      "Insert success:  191\n",
      "Insert success:  192\n",
      "Insert success:  193\n",
      "Insert success:  194\n",
      "Insert success:  195\n",
      "Insert success:  196\n",
      "Insert success:  197\n",
      "Insert success:  198\n",
      "Insert success:  199\n",
      "Insert success:  200\n",
      "Insert success:  201\n",
      "Insert success:  202\n",
      "Insert success:  203\n",
      "Insert success:  204\n",
      "Insert success:  205\n",
      "Insert success:  206\n",
      "Insert success:  207\n",
      "Insert success:  208\n",
      "Insert success:  209\n",
      "Insert success:  210\n",
      "Insert success:  211\n",
      "Insert success:  212\n",
      "Insert success:  213\n",
      "Insert success:  214\n",
      "Insert success:  215\n",
      "Insert success:  216\n",
      "Insert success:  217\n",
      "Insert success:  218\n",
      "Insert success:  219\n",
      "Insert success:  220\n",
      "Insert success:  221\n",
      "Insert success:  222\n",
      "Insert success:  223\n",
      "Insert success:  224\n",
      "Insert success:  225\n",
      "Insert success:  226\n",
      "Insert success:  227\n",
      "Insert success:  228\n",
      "Insert success:  229\n",
      "Insert success:  230\n",
      "Insert success:  231\n",
      "Insert success:  232\n",
      "Insert success:  233\n",
      "Insert success:  234\n",
      "Insert success:  235\n",
      "Insert success:  236\n",
      "Insert success:  237\n",
      "Insert success:  238\n",
      "Insert success:  239\n",
      "Insert success:  240\n",
      "Insert success:  241\n",
      "Insert success:  242\n",
      "Insert success:  243\n",
      "Insert success:  244\n",
      "Insert success:  245\n",
      "Insert success:  246\n",
      "Insert success:  247\n",
      "Insert success:  248\n",
      "Insert success:  249\n",
      "Insert success:  250\n",
      "Insert success:  251\n",
      "Insert success:  252\n",
      "Insert success:  253\n",
      "Insert success:  254\n",
      "Insert success:  255\n",
      "Insert success:  256\n",
      "Insert success:  257\n",
      "Insert success:  258\n",
      "Insert success:  259\n",
      "Insert success:  260\n",
      "Insert success:  261\n",
      "Insert success:  262\n",
      "Insert success:  263\n",
      "Insert success:  264\n",
      "Insert success:  265\n",
      "Insert success:  266\n",
      "Insert success:  267\n",
      "Insert success:  268\n",
      "Insert success:  269\n",
      "Insert success:  270\n",
      "Insert success:  271\n",
      "Insert success:  272\n",
      "Insert success:  273\n",
      "Insert success:  274\n",
      "Insert success:  275\n",
      "Insert success:  276\n",
      "Insert success:  277\n",
      "Insert success:  278\n",
      "Insert success:  279\n",
      "Insert success:  280\n",
      "Insert success:  281\n",
      "Insert success:  282\n",
      "Insert success:  283\n",
      "Insert success:  284\n",
      "Insert success:  285\n",
      "Insert success:  286\n",
      "Insert success:  287\n",
      "Insert success:  288\n",
      "Insert success:  289\n",
      "Insert success:  290\n",
      "Insert success:  291\n",
      "Insert success:  292\n",
      "Insert success:  293\n",
      "Insert success:  294\n",
      "Insert success:  295\n",
      "Insert success:  296\n",
      "Insert success:  297\n",
      "Insert success:  298\n",
      "Insert success:  299\n",
      "Insert success:  300\n",
      "Insert success:  301\n",
      "Insert success:  302\n",
      "Insert success:  303\n",
      "Insert success:  304\n",
      "Insert success:  305\n",
      "Insert success:  306\n",
      "Insert success:  307\n",
      "Insert success:  308\n",
      "Insert success:  309\n",
      "Insert success:  310\n"
     ]
    }
   ],
   "source": [
    "index = 0\n",
    "\n",
    "for img in photos_PN:\n",
    "    insert_image(img,'Psilopogon_nuchalis',index)\n",
    "    index = index+1\n",
    "for img in photos_PS:\n",
    "    insert_image(img,'Pycnonotus_sinensis',index)\n",
    "    index = index+1"
   ]
  },
  {
   "cell_type": "code",
   "execution_count": null,
   "id": "c9ac955b",
   "metadata": {},
   "outputs": [],
   "source": [
    "#1.(b)For metadata derived from data itself, we store them in MySQL"
   ]
  },
  {
   "cell_type": "code",
   "execution_count": null,
   "id": "7a48a9c4",
   "metadata": {},
   "outputs": [],
   "source": [
    "#Task2: Data Load, Data Preprocessing\n",
    "\n",
    "#We want:\n",
    "#(a.) the training data is able to go through sklearn model:Kmeans \n",
    "#(we need to flatten each photo image to a 1D-array of size(256*256*3))\n",
    "\n",
    "#(b.) the training data is able to be selected\n",
    "#(an index to pick photo we want)\n",
    "\n",
    "#(c.) the training data and the validation data are capable of passing through CNN from tensorflow"
   ]
  },
  {
   "cell_type": "code",
   "execution_count": 40,
   "id": "2b147442",
   "metadata": {},
   "outputs": [
    {
     "data": {
      "text/html": [
       "<div>\n",
       "<style scoped>\n",
       "    .dataframe tbody tr th:only-of-type {\n",
       "        vertical-align: middle;\n",
       "    }\n",
       "\n",
       "    .dataframe tbody tr th {\n",
       "        vertical-align: top;\n",
       "    }\n",
       "\n",
       "    .dataframe thead th {\n",
       "        text-align: right;\n",
       "    }\n",
       "</style>\n",
       "<table border=\"1\" class=\"dataframe\">\n",
       "  <thead>\n",
       "    <tr style=\"text-align: right;\">\n",
       "      <th></th>\n",
       "      <th>_id</th>\n",
       "      <th>index</th>\n",
       "      <th>image</th>\n",
       "      <th>species</th>\n",
       "    </tr>\n",
       "  </thead>\n",
       "  <tbody>\n",
       "    <tr>\n",
       "      <th>0</th>\n",
       "      <td>644e34bc9afe4ae9259a0067</td>\n",
       "      <td>0</td>\n",
       "      <td>[[[0.011764705882352941, 0.3254901960784314, 0...</td>\n",
       "      <td>Psilopogon_nuchalis</td>\n",
       "    </tr>\n",
       "    <tr>\n",
       "      <th>1</th>\n",
       "      <td>644e34bc9afe4ae9259a0068</td>\n",
       "      <td>1</td>\n",
       "      <td>[[[0.09803921568627451, 0.47843137254901963, 0...</td>\n",
       "      <td>Psilopogon_nuchalis</td>\n",
       "    </tr>\n",
       "    <tr>\n",
       "      <th>2</th>\n",
       "      <td>644e34bd9afe4ae9259a0069</td>\n",
       "      <td>2</td>\n",
       "      <td>[[[0.11764705882352941, 0.49019607843137253, 0...</td>\n",
       "      <td>Psilopogon_nuchalis</td>\n",
       "    </tr>\n",
       "    <tr>\n",
       "      <th>3</th>\n",
       "      <td>644e34bd9afe4ae9259a006a</td>\n",
       "      <td>3</td>\n",
       "      <td>[[[0.03137254901960784, 0.13333333333333333, 0...</td>\n",
       "      <td>Psilopogon_nuchalis</td>\n",
       "    </tr>\n",
       "    <tr>\n",
       "      <th>4</th>\n",
       "      <td>644e34bd9afe4ae9259a006b</td>\n",
       "      <td>4</td>\n",
       "      <td>[[[0.00784313725490196, 0.611764705882353, 0.3...</td>\n",
       "      <td>Psilopogon_nuchalis</td>\n",
       "    </tr>\n",
       "    <tr>\n",
       "      <th>...</th>\n",
       "      <td>...</td>\n",
       "      <td>...</td>\n",
       "      <td>...</td>\n",
       "      <td>...</td>\n",
       "    </tr>\n",
       "    <tr>\n",
       "      <th>306</th>\n",
       "      <td>644e34f09afe4ae9259a0199</td>\n",
       "      <td>306</td>\n",
       "      <td>[[[0.35294117647058826, 0.403921568627451, 0.3...</td>\n",
       "      <td>Pycnonotus_sinensis</td>\n",
       "    </tr>\n",
       "    <tr>\n",
       "      <th>307</th>\n",
       "      <td>644e34f09afe4ae9259a019a</td>\n",
       "      <td>307</td>\n",
       "      <td>[[[0.6627450980392157, 0.6823529411764706, 0.6...</td>\n",
       "      <td>Pycnonotus_sinensis</td>\n",
       "    </tr>\n",
       "    <tr>\n",
       "      <th>308</th>\n",
       "      <td>644e34f09afe4ae9259a019b</td>\n",
       "      <td>308</td>\n",
       "      <td>[[[0.12156862745098039, 0.3568627450980392, 0....</td>\n",
       "      <td>Pycnonotus_sinensis</td>\n",
       "    </tr>\n",
       "    <tr>\n",
       "      <th>309</th>\n",
       "      <td>644e34f09afe4ae9259a019c</td>\n",
       "      <td>309</td>\n",
       "      <td>[[[0.1411764705882353, 0.3764705882352941, 0.3...</td>\n",
       "      <td>Pycnonotus_sinensis</td>\n",
       "    </tr>\n",
       "    <tr>\n",
       "      <th>310</th>\n",
       "      <td>644e34f09afe4ae9259a019d</td>\n",
       "      <td>310</td>\n",
       "      <td>[[[0.30980392156862746, 0.7450980392156863, 0....</td>\n",
       "      <td>Pycnonotus_sinensis</td>\n",
       "    </tr>\n",
       "  </tbody>\n",
       "</table>\n",
       "<p>311 rows × 4 columns</p>\n",
       "</div>"
      ],
      "text/plain": [
       "                          _id  index  \\\n",
       "0    644e34bc9afe4ae9259a0067      0   \n",
       "1    644e34bc9afe4ae9259a0068      1   \n",
       "2    644e34bd9afe4ae9259a0069      2   \n",
       "3    644e34bd9afe4ae9259a006a      3   \n",
       "4    644e34bd9afe4ae9259a006b      4   \n",
       "..                        ...    ...   \n",
       "306  644e34f09afe4ae9259a0199    306   \n",
       "307  644e34f09afe4ae9259a019a    307   \n",
       "308  644e34f09afe4ae9259a019b    308   \n",
       "309  644e34f09afe4ae9259a019c    309   \n",
       "310  644e34f09afe4ae9259a019d    310   \n",
       "\n",
       "                                                 image              species  \n",
       "0    [[[0.011764705882352941, 0.3254901960784314, 0...  Psilopogon_nuchalis  \n",
       "1    [[[0.09803921568627451, 0.47843137254901963, 0...  Psilopogon_nuchalis  \n",
       "2    [[[0.11764705882352941, 0.49019607843137253, 0...  Psilopogon_nuchalis  \n",
       "3    [[[0.03137254901960784, 0.13333333333333333, 0...  Psilopogon_nuchalis  \n",
       "4    [[[0.00784313725490196, 0.611764705882353, 0.3...  Psilopogon_nuchalis  \n",
       "..                                                 ...                  ...  \n",
       "306  [[[0.35294117647058826, 0.403921568627451, 0.3...  Pycnonotus_sinensis  \n",
       "307  [[[0.6627450980392157, 0.6823529411764706, 0.6...  Pycnonotus_sinensis  \n",
       "308  [[[0.12156862745098039, 0.3568627450980392, 0....  Pycnonotus_sinensis  \n",
       "309  [[[0.1411764705882353, 0.3764705882352941, 0.3...  Pycnonotus_sinensis  \n",
       "310  [[[0.30980392156862746, 0.7450980392156863, 0....  Pycnonotus_sinensis  \n",
       "\n",
       "[311 rows x 4 columns]"
      ]
     },
     "execution_count": 40,
     "metadata": {},
     "output_type": "execute_result"
    }
   ],
   "source": [
    "#2.a Prepare data for KMeans\n",
    "\n",
    "#Fetch data from MongoDB\n",
    "import pandas as pd\n",
    "df = pd.DataFrame(list(mgdb_collection.find()))\n",
    "df"
   ]
  },
  {
   "cell_type": "code",
   "execution_count": 153,
   "id": "5db8c584",
   "metadata": {},
   "outputs": [],
   "source": [
    "#We flatten a (256,256,3) array into a 1D-array with size (256*256*3)\n",
    "#and combine these arrays into a array\n",
    "from sklearn.model_selection import train_test_split\n",
    "X = np.array([np.array(img).flatten() for img in df['image']])\n",
    "train_X, test_X, train_y, test_y = train_test_split(X,df.species,random_state = 100,test_size = 0.3)"
   ]
  },
  {
   "cell_type": "code",
   "execution_count": 154,
   "id": "a166095d",
   "metadata": {
    "collapsed": true
   },
   "outputs": [
    {
     "name": "stderr",
     "output_type": "stream",
     "text": [
      "/Users/wuguanxun/miniconda3/envs/tensorflow/lib/python3.10/site-packages/sklearn/cluster/_kmeans.py:870: FutureWarning: The default value of `n_init` will change from 10 to 'auto' in 1.4. Set the value of `n_init` explicitly to suppress the warning\n",
      "  warnings.warn(\n",
      "/Users/wuguanxun/miniconda3/envs/tensorflow/lib/python3.10/site-packages/sklearn/cluster/_kmeans.py:870: FutureWarning: The default value of `n_init` will change from 10 to 'auto' in 1.4. Set the value of `n_init` explicitly to suppress the warning\n",
      "  warnings.warn(\n",
      "/Users/wuguanxun/miniconda3/envs/tensorflow/lib/python3.10/site-packages/sklearn/cluster/_kmeans.py:870: FutureWarning: The default value of `n_init` will change from 10 to 'auto' in 1.4. Set the value of `n_init` explicitly to suppress the warning\n",
      "  warnings.warn(\n",
      "/Users/wuguanxun/miniconda3/envs/tensorflow/lib/python3.10/site-packages/sklearn/cluster/_kmeans.py:870: FutureWarning: The default value of `n_init` will change from 10 to 'auto' in 1.4. Set the value of `n_init` explicitly to suppress the warning\n",
      "  warnings.warn(\n",
      "/Users/wuguanxun/miniconda3/envs/tensorflow/lib/python3.10/site-packages/sklearn/cluster/_kmeans.py:870: FutureWarning: The default value of `n_init` will change from 10 to 'auto' in 1.4. Set the value of `n_init` explicitly to suppress the warning\n",
      "  warnings.warn(\n",
      "/Users/wuguanxun/miniconda3/envs/tensorflow/lib/python3.10/site-packages/sklearn/cluster/_kmeans.py:870: FutureWarning: The default value of `n_init` will change from 10 to 'auto' in 1.4. Set the value of `n_init` explicitly to suppress the warning\n",
      "  warnings.warn(\n",
      "/Users/wuguanxun/miniconda3/envs/tensorflow/lib/python3.10/site-packages/sklearn/cluster/_kmeans.py:870: FutureWarning: The default value of `n_init` will change from 10 to 'auto' in 1.4. Set the value of `n_init` explicitly to suppress the warning\n",
      "  warnings.warn(\n",
      "/Users/wuguanxun/miniconda3/envs/tensorflow/lib/python3.10/site-packages/sklearn/cluster/_kmeans.py:870: FutureWarning: The default value of `n_init` will change from 10 to 'auto' in 1.4. Set the value of `n_init` explicitly to suppress the warning\n",
      "  warnings.warn(\n",
      "/Users/wuguanxun/miniconda3/envs/tensorflow/lib/python3.10/site-packages/sklearn/cluster/_kmeans.py:870: FutureWarning: The default value of `n_init` will change from 10 to 'auto' in 1.4. Set the value of `n_init` explicitly to suppress the warning\n",
      "  warnings.warn(\n",
      "/Users/wuguanxun/miniconda3/envs/tensorflow/lib/python3.10/site-packages/sklearn/cluster/_kmeans.py:870: FutureWarning: The default value of `n_init` will change from 10 to 'auto' in 1.4. Set the value of `n_init` explicitly to suppress the warning\n",
      "  warnings.warn(\n"
     ]
    }
   ],
   "source": [
    "#K-means with elbow method\n",
    "from sklearn.cluster import KMeans\n",
    "\n",
    "distortion = []\n",
    "K = range(1,11)\n",
    "\n",
    "for k in K:\n",
    "    kmeans = KMeans(n_clusters = k)\n",
    "    kmeans.fit(train_X)\n",
    "    distortion.append(kmeans.inertia_)"
   ]
  },
  {
   "cell_type": "code",
   "execution_count": 244,
   "id": "82313b46",
   "metadata": {
    "collapsed": true
   },
   "outputs": [
    {
     "data": {
      "text/plain": [
       "[<matplotlib.lines.Line2D at 0x154ea8100>]"
      ]
     },
     "execution_count": 244,
     "metadata": {},
     "output_type": "execute_result"
    },
    {
     "data": {
      "image/png": "[encoded data removed]",
      "text/plain": [
       "<Figure size 640x480 with 1 Axes>"
      ]
     },
     "metadata": {},
     "output_type": "display_data"
    }
   ],
   "source": [
    "#Plot the elbow!\n",
    "plt.plot(K,distortion,'bx-')"
   ]
  },
  {
   "cell_type": "code",
   "execution_count": 250,
   "id": "2df7e913",
   "metadata": {},
   "outputs": [
    {
     "name": "stderr",
     "output_type": "stream",
     "text": [
      "/Users/wuguanxun/miniconda3/envs/tensorflow/lib/python3.10/site-packages/sklearn/cluster/_kmeans.py:870: FutureWarning: The default value of `n_init` will change from 10 to 'auto' in 1.4. Set the value of `n_init` explicitly to suppress the warning\n",
      "  warnings.warn(\n"
     ]
    },
    {
     "data": {
      "text/html": [
       "<style>#sk-container-id-14 {color: black;background-color: white;}#sk-container-id-14 pre{padding: 0;}#sk-container-id-14 div.sk-toggleable {background-color: white;}#sk-container-id-14 label.sk-toggleable__label {cursor: pointer;display: block;width: 100%;margin-bottom: 0;padding: 0.3em;box-sizing: border-box;text-align: center;}#sk-container-id-14 label.sk-toggleable__label-arrow:before {content: \"▸\";float: left;margin-right: 0.25em;color: #696969;}#sk-container-id-14 label.sk-toggleable__label-arrow:hover:before {color: black;}#sk-container-id-14 div.sk-estimator:hover label.sk-toggleable__label-arrow:before {color: black;}#sk-container-id-14 div.sk-toggleable__content {max-height: 0;max-width: 0;overflow: hidden;text-align: left;background-color: #f0f8ff;}#sk-container-id-14 div.sk-toggleable__content pre {margin: 0.2em;color: black;border-radius: 0.25em;background-color: #f0f8ff;}#sk-container-id-14 input.sk-toggleable__control:checked~div.sk-toggleable__content {max-height: 200px;max-width: 100%;overflow: auto;}#sk-container-id-14 input.sk-toggleable__control:checked~label.sk-toggleable__label-arrow:before {content: \"▾\";}#sk-container-id-14 div.sk-estimator input.sk-toggleable__control:checked~label.sk-toggleable__label {background-color: #d4ebff;}#sk-container-id-14 div.sk-label input.sk-toggleable__control:checked~label.sk-toggleable__label {background-color: #d4ebff;}#sk-container-id-14 input.sk-hidden--visually {border: 0;clip: rect(1px 1px 1px 1px);clip: rect(1px, 1px, 1px, 1px);height: 1px;margin: -1px;overflow: hidden;padding: 0;position: absolute;width: 1px;}#sk-container-id-14 div.sk-estimator {font-family: monospace;background-color: #f0f8ff;border: 1px dotted black;border-radius: 0.25em;box-sizing: border-box;margin-bottom: 0.5em;}#sk-container-id-14 div.sk-estimator:hover {background-color: #d4ebff;}#sk-container-id-14 div.sk-parallel-item::after {content: \"\";width: 100%;border-bottom: 1px solid gray;flex-grow: 1;}#sk-container-id-14 div.sk-label:hover label.sk-toggleable__label {background-color: #d4ebff;}#sk-container-id-14 div.sk-serial::before {content: \"\";position: absolute;border-left: 1px solid gray;box-sizing: border-box;top: 0;bottom: 0;left: 50%;z-index: 0;}#sk-container-id-14 div.sk-serial {display: flex;flex-direction: column;align-items: center;background-color: white;padding-right: 0.2em;padding-left: 0.2em;position: relative;}#sk-container-id-14 div.sk-item {position: relative;z-index: 1;}#sk-container-id-14 div.sk-parallel {display: flex;align-items: stretch;justify-content: center;background-color: white;position: relative;}#sk-container-id-14 div.sk-item::before, #sk-container-id-14 div.sk-parallel-item::before {content: \"\";position: absolute;border-left: 1px solid gray;box-sizing: border-box;top: 0;bottom: 0;left: 50%;z-index: -1;}#sk-container-id-14 div.sk-parallel-item {display: flex;flex-direction: column;z-index: 1;position: relative;background-color: white;}#sk-container-id-14 div.sk-parallel-item:first-child::after {align-self: flex-end;width: 50%;}#sk-container-id-14 div.sk-parallel-item:last-child::after {align-self: flex-start;width: 50%;}#sk-container-id-14 div.sk-parallel-item:only-child::after {width: 0;}#sk-container-id-14 div.sk-dashed-wrapped {border: 1px dashed gray;margin: 0 0.4em 0.5em 0.4em;box-sizing: border-box;padding-bottom: 0.4em;background-color: white;}#sk-container-id-14 div.sk-label label {font-family: monospace;font-weight: bold;display: inline-block;line-height: 1.2em;}#sk-container-id-14 div.sk-label-container {text-align: center;}#sk-container-id-14 div.sk-container {/* jupyter's `normalize.less` sets `[hidden] { display: none; }` but bootstrap.min.css set `[hidden] { display: none !important; }` so we also need the `!important` here to be able to override the default hidden behavior on the sphinx rendered scikit-learn.org. See: https://github.com/scikit-learn/scikit-learn/issues/21755 */display: inline-block !important;position: relative;}#sk-container-id-14 div.sk-text-repr-fallback {display: none;}</style><div id=\"sk-container-id-14\" class=\"sk-top-container\"><div class=\"sk-text-repr-fallback\"><pre>KMeans(n_clusters=5)</pre><b>In a Jupyter environment, please rerun this cell to show the HTML representation or trust the notebook. <br />On GitHub, the HTML representation is unable to render, please try loading this page with nbviewer.org.</b></div><div class=\"sk-container\" hidden><div class=\"sk-item\"><div class=\"sk-estimator sk-toggleable\"><input class=\"sk-toggleable__control sk-hidden--visually\" id=\"sk-estimator-id-14\" type=\"checkbox\" checked><label for=\"sk-estimator-id-14\" class=\"sk-toggleable__label sk-toggleable__label-arrow\">KMeans</label><div class=\"sk-toggleable__content\"><pre>KMeans(n_clusters=5)</pre></div></div></div></div></div>"
      ],
      "text/plain": [
       "KMeans(n_clusters=5)"
      ]
     },
     "execution_count": 250,
     "metadata": {},
     "output_type": "execute_result"
    }
   ],
   "source": [
    "k = 5\n",
    "kmeans = KMeans(n_clusters =  k)\n",
    "kmeans.fit(train_X)"
   ]
  },
  {
   "cell_type": "code",
   "execution_count": 251,
   "id": "83c5adeb",
   "metadata": {},
   "outputs": [
    {
     "data": {
      "text/plain": [
       "Counter({4: 25, 1: 95, 2: 45, 3: 28, 0: 24})"
      ]
     },
     "execution_count": 251,
     "metadata": {},
     "output_type": "execute_result"
    }
   ],
   "source": [
    "centers = kmeans.cluster_centers_\n",
    "from collections import Counter\n",
    "dist = Counter(kmeans.labels_)\n",
    "dist"
   ]
  },
  {
   "cell_type": "code",
   "execution_count": 252,
   "id": "43c9d904",
   "metadata": {},
   "outputs": [],
   "source": [
    "closest_per = 50\n",
    "X_distance = kmeans.transform(X)\n",
    "representative_X_index = np.argmin(X_distance,axis=0)\n",
    "representative_X_image = X[representative_X_index]"
   ]
  },
  {
   "cell_type": "code",
   "execution_count": 253,
   "id": "56417b7b",
   "metadata": {},
   "outputs": [],
   "source": [
    "X_cluster_dist = X_distance[np.arange(len(train_X)),kmeans.labels_]\n",
    "\n",
    "for i in range(k):\n",
    "    in_cluster = (kmeans.labels_ == i)#Choose the sample in the ith cluster\n",
    "    cluster_distance = X_cluster_dist[in_cluster]#Filter the distance, leave only the distance of sample in ith cluster\n",
    "    cutoff_distance = np.percentile(cluster_distance,closest_per) #calculate the margin value which distinguish whether or not the sample is the 20th nearest to the center \n",
    "    above_cutoff = (X_cluster_dist>cutoff_distance)\n",
    "    X_cluster_dist[in_cluster & above_cutoff] = -1\n",
    "\n",
    "part_propagate = (X_cluster_dist != -1)\n",
    "X_train_progated = train_X[part_propagate]\n",
    "y_train_progated = train_y[part_propagate]"
   ]
  },
  {
   "cell_type": "code",
   "execution_count": 417,
   "id": "23395f47",
   "metadata": {},
   "outputs": [],
   "source": [
    "Unflattened_train_X = np.array([np.array(img.reshape((256,256,3))) for img in train_X])\n",
    "Unflattened_test_X = np.array([np.array(img.reshape((256,256,3))) for img in test_X])\n",
    "Unflattened_progated_X = np.array([np.array(img.reshape((256,256,3))) for img in X_train_progated])\n",
    "#Unflattened_train_X = tf.expand_dims(Unflattened_train_X, axis=-1)\n",
    "#Unflattened_test_X = tf.expand_dims(Unflattened_test_X, axis=-1)"
   ]
  },
  {
   "cell_type": "code",
   "execution_count": 418,
   "id": "d26d6456",
   "metadata": {},
   "outputs": [
    {
     "data": {
      "text/plain": [
       "(110, 256, 256, 3)"
      ]
     },
     "execution_count": 418,
     "metadata": {},
     "output_type": "execute_result"
    }
   ],
   "source": [
    "Unflattened_progated_X.shape"
   ]
  },
  {
   "cell_type": "code",
   "execution_count": 419,
   "id": "5d585465",
   "metadata": {
    "scrolled": true
   },
   "outputs": [
    {
     "data": {
      "text/plain": [
       "0      0\n",
       "1      0\n",
       "2      0\n",
       "3      0\n",
       "4      0\n",
       "      ..\n",
       "306    1\n",
       "307    1\n",
       "308    1\n",
       "309    1\n",
       "310    1\n",
       "Name: species, Length: 311, dtype: int64"
      ]
     },
     "execution_count": 419,
     "metadata": {},
     "output_type": "execute_result"
    }
   ],
   "source": [
    "mapping = {'Psilopogon_nuchalis':0,\"Pycnonotus_sinensis\":1}\n",
    "df['species'].map(mapping)"
   ]
  },
  {
   "cell_type": "code",
   "execution_count": 420,
   "id": "2fa44bc5",
   "metadata": {},
   "outputs": [],
   "source": [
    "train_ds = tf.data.Dataset.from_tensor_slices((Unflatten_train_X, np.array(train_y.map(mapping)))).batch(1)\n",
    "train_ds_Kmeans = tf.data.Dataset.from_tensor_slices((Unflattened_progated_X, np.array(y_train_progated.map(mapping)))).batch(1)\n",
    "valid_ds = tf.data.Dataset.from_tensor_slices((Unflattened_test_X,  np.array(test_y.map(mapping)))).batch(1)"
   ]
  },
  {
   "cell_type": "code",
   "execution_count": 425,
   "id": "726b4408",
   "metadata": {},
   "outputs": [
    {
     "data": {
      "text/plain": [
       "<BatchDataset element_spec=(TensorSpec(shape=(None, 256, 256, 3), dtype=tf.float64, name=None), TensorSpec(shape=(None,), dtype=tf.int64, name=None))>"
      ]
     },
     "execution_count": 425,
     "metadata": {},
     "output_type": "execute_result"
    }
   ],
   "source": [
    "train_ds"
   ]
  },
  {
   "cell_type": "code",
   "execution_count": 444,
   "id": "1143e269",
   "metadata": {},
   "outputs": [],
   "source": [
    "#CNN using K-means selected data v.s. CNN the entire training set\n",
    "\n",
    "num_classes = 2\n",
    "\n",
    "model = tf.keras.Sequential([\n",
    "  tf.keras.layers.Conv2D(32, 3, activation='relu',input_shape = [256,256,3]),\n",
    "  tf.keras.layers.MaxPooling2D(),\n",
    "  tf.keras.layers.Conv2D(32, 3, activation='relu'),\n",
    "  tf.keras.layers.MaxPooling2D(),\n",
    "  tf.keras.layers.Conv2D(32, 3, activation='relu'),\n",
    "  tf.keras.layers.MaxPooling2D(),\n",
    "  tf.keras.layers.Flatten(),\n",
    "  tf.keras.layers.Dense(128, activation='relu'),\n",
    "  tf.keras.layers.Dropout(0.5),#Regularization\n",
    "  tf.keras.layers.Dense(num_classes,activation = 'softmax')#binary classification\n",
    "])\n"
   ]
  },
  {
   "cell_type": "code",
   "execution_count": 447,
   "id": "212d23ef",
   "metadata": {},
   "outputs": [],
   "source": [
    "model.compile(\n",
    "  optimizer='adam',\n",
    "  loss=tf.keras.losses.SparseCategoricalCrossentropy(from_logits=True),\n",
    "  metrics=['accuracy'])\n",
    "\n",
    "model_Kmeans = model"
   ]
  },
  {
   "cell_type": "code",
   "execution_count": 448,
   "id": "69661afa",
   "metadata": {
    "scrolled": true
   },
   "outputs": [
    {
     "name": "stdout",
     "output_type": "stream",
     "text": [
      "Epoch 1/20\n"
     ]
    },
    {
     "name": "stderr",
     "output_type": "stream",
     "text": [
      "2023-05-01 14:37:55.687821: I tensorflow/core/grappler/optimizers/custom_graph_optimizer_registry.cc:113] Plugin optimizer for device_type GPU is enabled.\n"
     ]
    },
    {
     "name": "stdout",
     "output_type": "stream",
     "text": [
      "214/217 [============================>.] - ETA: 0s - loss: 0.8711 - accuracy: 0.6168"
     ]
    },
    {
     "name": "stderr",
     "output_type": "stream",
     "text": [
      "2023-05-01 14:37:59.361789: I tensorflow/core/grappler/optimizers/custom_graph_optimizer_registry.cc:113] Plugin optimizer for device_type GPU is enabled.\n"
     ]
    },
    {
     "name": "stdout",
     "output_type": "stream",
     "text": [
      "217/217 [==============================] - 5s 19ms/step - loss: 0.8668 - accuracy: 0.6221 - val_loss: 0.7263 - val_accuracy: 0.3085\n",
      "Epoch 2/20\n",
      "217/217 [==============================] - 4s 18ms/step - loss: 0.4525 - accuracy: 0.7834 - val_loss: 0.0870 - val_accuracy: 0.9894\n",
      "Epoch 3/20\n",
      "217/217 [==============================] - 4s 18ms/step - loss: 0.2416 - accuracy: 0.9171 - val_loss: 0.0510 - val_accuracy: 0.9894\n",
      "Epoch 4/20\n",
      "217/217 [==============================] - 4s 17ms/step - loss: 0.1503 - accuracy: 0.9585 - val_loss: 0.1034 - val_accuracy: 0.9787\n",
      "Epoch 5/20\n",
      "217/217 [==============================] - 4s 17ms/step - loss: 0.1050 - accuracy: 0.9631 - val_loss: 0.0631 - val_accuracy: 0.9894\n",
      "Epoch 6/20\n",
      "217/217 [==============================] - 4s 17ms/step - loss: 0.0584 - accuracy: 0.9770 - val_loss: 0.0283 - val_accuracy: 0.9894\n",
      "Epoch 7/20\n",
      "217/217 [==============================] - 4s 17ms/step - loss: 0.0040 - accuracy: 1.0000 - val_loss: 0.0086 - val_accuracy: 1.0000\n"
     ]
    }
   ],
   "source": [
    "from tensorflow import keras\n",
    "checkpoint_cb = keras.callbacks.ModelCheckpoint(\"model_v1.h5\")\n",
    "early_stopping_cb = keras.callbacks.EarlyStopping(min_delta = 0.15,patience = 5,mode = 'min',restore_best_weights = True)\n",
    "history1 = model.fit(\n",
    "          train_ds,\n",
    "          validation_data = valid_ds,\n",
    "          epochs=20,callbacks = [checkpoint_cb,early_stopping_cb],\n",
    "          batch_size=1\n",
    ")"
   ]
  },
  {
   "cell_type": "code",
   "execution_count": 449,
   "id": "f4c7b964",
   "metadata": {
    "scrolled": false
   },
   "outputs": [
    {
     "name": "stdout",
     "output_type": "stream",
     "text": [
      "Epoch 1/20\n",
      "110/110 [==============================] - 2s 21ms/step - loss: 0.0095 - accuracy: 1.0000 - val_loss: 0.0454 - val_accuracy: 0.9787\n",
      "Epoch 2/20\n",
      "110/110 [==============================] - 2s 19ms/step - loss: 0.0037 - accuracy: 1.0000 - val_loss: 0.0611 - val_accuracy: 0.9787\n",
      "Epoch 3/20\n",
      "110/110 [==============================] - 2s 20ms/step - loss: 0.0442 - accuracy: 0.9818 - val_loss: 0.0404 - val_accuracy: 0.9894\n",
      "Epoch 4/20\n",
      "110/110 [==============================] - 2s 20ms/step - loss: 0.0038 - accuracy: 1.0000 - val_loss: 0.0897 - val_accuracy: 0.9894\n",
      "Epoch 5/20\n",
      "110/110 [==============================] - 2s 20ms/step - loss: 4.2046e-04 - accuracy: 1.0000 - val_loss: 0.0607 - val_accuracy: 0.9894\n",
      "Epoch 6/20\n",
      "110/110 [==============================] - 2s 20ms/step - loss: 2.6860e-05 - accuracy: 1.0000 - val_loss: 0.0582 - val_accuracy: 0.9894\n"
     ]
    }
   ],
   "source": [
    "from tensorflow import keras\n",
    "checkpoint_cb = keras.callbacks.ModelCheckpoint(\"model_KNN.h5\")\n",
    "early_stopping_cb = keras.callbacks.EarlyStopping(min_delta = 0.15,patience = 5,mode = 'min',restore_best_weights = True)\n",
    "history2 = model_KNN.fit(\n",
    "          train_ds_Kmeans,\n",
    "          validation_data = valid_ds,\n",
    "          epochs=20,callbacks = [checkpoint_cb,early_stopping_cb],\n",
    "          batch_size=1\n",
    ")"
   ]
  },
  {
   "cell_type": "code",
   "execution_count": null,
   "id": "56f32c7b",
   "metadata": {},
   "outputs": [],
   "source": [
    "#xAI(perhaps?)"
   ]
  }
 ],
 "metadata": {
  "kernelspec": {
   "display_name": "Python 3.10 (tensorflow)",
   "language": "python",
   "name": "tensorflow"
  },
  "language_info": {
   "codemirror_mode": {
    "name": "ipython",
    "version": 3
   },
   "file_extension": ".py",
   "mimetype": "text/x-python",
   "name": "python",
   "nbconvert_exporter": "python",
   "pygments_lexer": "ipython3",
   "version": "3.10.9"
  }
 },
 "nbformat": 4,
 "nbformat_minor": 5
}
