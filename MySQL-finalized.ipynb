{
 "cells": [
  {
   "cell_type": "code",
   "execution_count": 3,
   "id": "1f7f2550",
   "metadata": {},
   "outputs": [
    {
     "name": "stdout",
     "output_type": "stream",
     "text": [
      "<mysql.connector.connection_cext.CMySQLConnection object at 0x105afcfa0>\n"
     ]
    }
   ],
   "source": [
    "#Connect to mySQL database\n",
    "import mysql.connector\n",
    "mydb = mysql.connector.connect(\n",
    "host=\"127.0.0.1\",\n",
    "port=3306,\n",
    "user=\"root\",\n",
    "password=\"root\")\n",
    "print(mydb)\n",
    "\n",
    "mycursor = mydb.cursor(buffered=True)"
   ]
  },
  {
   "cell_type": "code",
   "execution_count": 4,
   "id": "c00f60df",
   "metadata": {},
   "outputs": [],
   "source": [
    "#Create a Database named 110304015 and update the cursor\n",
    "mycursor.execute(\"CREATE DATABASE Tiny_project\")\n",
    "\n",
    "mydb = mysql.connector.connect(\n",
    "host=\"127.0.0.1\",\n",
    "port=3306,\n",
    "user=\"root\",\n",
    "password=\"root\",\n",
    "database=\"Tiny_project\")\n",
    "\n",
    "mycursor = mydb.cursor(buffered=True)"
   ]
  },
  {
   "cell_type": "code",
   "execution_count": 5,
   "id": "7f79eca6",
   "metadata": {},
   "outputs": [],
   "source": [
    "#Create Tables\n",
    "mycursor.execute('CREATE TABLE photos (species VARCHAR(255), id INT)')\n",
    "mycursor.execute('CREATE TABLE metadata (id INT,GPSInfo INT, ResolutionUnit INT, ExifOffset INT,Type INT,Orientation INT,DateTime TIMESTAMP,YCbCrPositioning INT,YResolution INT,Copyright VARCHAR(255),XResolution INT,Artist VARCHAR(255))')\n",
    "mycursor.execute('CREATE TABLE model_type (Type INT,Make VARCHAR(255), Model VARCHAR(255),Software VARCHAR(255))')\n",
    "#Add PK and INDEX, Create Relations\n",
    "mycursor.execute(\"ALTER TABLE model_type ADD PRIMARY KEY (Type)\")\n",
    "#mycursor.execute(\"ALTER TABLE metadata ADD FORIEGN KEY (Make) REFERENCES\")\n",
    "mycursor.execute('ALTER TABLE metadata ADD CONSTRAINT FOREIGN KEY (Type) references model_type (Type)')\n",
    "mycursor.execute(\"SET GLOBAL FOREIGN_KEY_CHECKS=0\")"
   ]
  },
  {
   "cell_type": "code",
   "execution_count": 6,
   "id": "10a2294e",
   "metadata": {},
   "outputs": [],
   "source": [
    "#Insert the type of models into model_type table\n",
    "type_of_models = []\n",
    "sql = \"INSERT INTO model_type (Type, Make, Model, Software) VALUES (%s, %s, %s, %s)\"\n",
    "val = (0,'Canon','Canon EOS R7', 'Digital Photo Professional')\n",
    "type_of_models.append(val)\n",
    "mycursor.execute(sql,val)\n",
    "sql = \"INSERT INTO model_type (Type, Make, Model, Software) VALUES (%s, %s, %s, %s)\"\n",
    "val = (1,'Canon','Canon EOS R', 'Digital Photo Professional')\n",
    "mycursor.execute(sql,val)\n",
    "type_of_models.append(val)"
   ]
  },
  {
   "cell_type": "code",
   "execution_count": 7,
   "id": "8b051c4c",
   "metadata": {},
   "outputs": [],
   "source": [
    "#define a function to conveniently save images\n",
    "\n",
    "from PIL import Image\n",
    "from PIL.ExifTags import TAGS\n",
    "def save_img(filename,species,index):\n",
    "    #For photos table\n",
    "    img = open(filename,'rb')\n",
    "    sql = \"INSERT INTO photos (species, id) VALUES (%s, %s)\"\n",
    "    val = (species,index)\n",
    "    mycursor.execute(sql, val)#populate_data1\n",
    "    mydb.commit()\n",
    "    #For metadata table\n",
    "    image = Image.open(filename)\n",
    "    exifdata = image.getexif()\n",
    "    values = []\n",
    "    for tag_id in exifdata:\n",
    "    # get the tag name, instead of human unreadable tag id\n",
    "        tag = TAGS.get(tag_id, tag_id)\n",
    "        data = exifdata.get(tag_id)\n",
    "        if isinstance(data, bytes):\n",
    "            data = data.decode()\n",
    "        values.append(data)\n",
    "    type_ = 0\n",
    "    temp_ind = 0\n",
    "    for types in type_of_models:\n",
    "        if( (values[3],values[4],values[5]) == (types[1],types[2],types[3]) ):\n",
    "            type_ = types[0]\n",
    "    sql_meta = \"INSERT INTO metadata (id,GPSInfo,ResolutionUnit,ExifOffset,Type,Orientation,DateTime,YCbCrPositioning,YResolution,Copyright,XResolution,Artist) VALUES (%s,%s,%s,%s,%s,%s,%s,%s,%s,%s,%s,%s)\"\n",
    "    val_meta = (index,values[0],values[1],values[2],type_,values[6],values[7],values[8],int(values[9]),values[10],int(values[11]),values[12])\n",
    "    mycursor.execute(sql_meta, val_meta)\n",
    "    mydb.commit()"
   ]
  },
  {
   "cell_type": "code",
   "execution_count": 13,
   "id": "a4f2fbb4",
   "metadata": {},
   "outputs": [],
   "source": [
    "#Setting directory of images\n",
    "import os \n",
    "dir_path_1 = os.path.dirname(os.path.realpath('/Users/wuguanxun/Desktop/photos/bird_photos/Pycnonotus_sinensis/6B1A1285.JPG'))\n",
    "file_names_1 = os.listdir(dir_path_1)\n",
    "\n",
    "dir_path_2 = os.path.dirname(os.path.realpath('/Users/wuguanxun/Desktop/photos/bird_photos/Psilopogon_nuchalis/6B1A1109.JPG'))\n",
    "file_names_2 = os.listdir(dir_path_2)"
   ]
  },
  {
   "cell_type": "code",
   "execution_count": 14,
   "id": "498d8818",
   "metadata": {},
   "outputs": [],
   "source": [
    "#Saving images\n",
    "index = 0\n",
    "file_names_1.remove('.DS_Store')\n",
    "for file in file_names_1:\n",
    "    save_img(\"/Users/wuguanxun/Desktop/photos/bird_photos/Pycnonotus_sinensis/\"+file,'Pycnonotus sinensis',index)\n",
    "    index = index+1\n",
    "for file in file_names_2:\n",
    "    save_img(\"/Users/wuguanxun/Desktop/photos/bird_photos/Psilopogon_nuchalis/\"+file,'Psilopogon nuchalis',index)\n",
    "    index = index+1"
   ]
  }
 ],
 "metadata": {
  "kernelspec": {
   "display_name": "Python 3.10 (tensorflow)",
   "language": "python",
   "name": "tensorflow"
  },
  "language_info": {
   "codemirror_mode": {
    "name": "ipython",
    "version": 3
   },
   "file_extension": ".py",
   "mimetype": "text/x-python",
   "name": "python",
   "nbconvert_exporter": "python",
   "pygments_lexer": "ipython3",
   "version": "3.10.9"
  }
 },
 "nbformat": 4,
 "nbformat_minor": 5
}
